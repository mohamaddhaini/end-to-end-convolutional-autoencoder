{
 "cells": [
  {
   "cell_type": "code",
   "execution_count": null,
   "id": "13caa308-da7b-4a4a-a90b-52a068478e29",
   "metadata": {},
   "outputs": [],
   "source": [
    "import torch\n",
    "from torchvision import models\n",
    "from torch.autograd import Variable\n",
    "from torch.utils.data import DataLoader\n",
    "import torch.nn.functional as F\n",
    "import matplotlib.pyplot as plt\n",
    "import numpy as np\n",
    "import time\n",
    "import tqdm\n",
    "from spectral import envi\n",
    "import os\n",
    "import random\n",
    "import pandas as pd\n",
    "from sklearn.preprocessing import Normalizer\n",
    "from sklearn.preprocessing import StandardScaler\n",
    "import importlib\n",
    "from PIL import Image\n",
    "import matplotlib\n",
    "import pickle\n",
    "from sklearn.preprocessing import MinMaxScaler"
   ]
  },
  {
   "cell_type": "code",
   "execution_count": null,
   "id": "176f2e7d-6ad3-4057-a2be-cd329390d15c",
   "metadata": {},
   "outputs": [],
   "source": [
    "os.chdir(r'<YOUR_PATH_HERE>')\n",
    "import conv_autoencoder\n",
    "importlib.reload(conv_autoencoder)"
   ]
  },
  {
   "cell_type": "markdown",
   "id": "5ba938f3-bf9a-4e48-9bd6-e8923712106a",
   "metadata": {
    "tags": []
   },
   "source": [
    "## Load data (Choose to normalize or not the data)"
   ]
  },
  {
   "cell_type": "code",
   "execution_count": null,
   "id": "c7370323-7264-4f18-8806-118358205cb0",
   "metadata": {},
   "outputs": [],
   "source": [
    "data_train=np.load(r'<YOUR_PATH_HERE>')\n",
    "scaler1=MinMaxScaler()\n",
    "data_train=scaler1.fit_transform(data_train.T).T\n",
    "data_test=np.load(r'<YOUR_PATH_HERE>')\n",
    "scaler=MinMaxScaler()\n",
    "data_test=scaler.fit_transform(data_test.T).T\n",
    "data_slice=np.load(r'<YOUR_PATH_HERE>')\n",
    "scaler=MinMaxScaler()\n",
    "data_slice=scaler.fit_transform(data_slice.T).T"
   ]
  },
  {
   "cell_type": "code",
   "execution_count": null,
   "id": "180f9d35-635e-4852-988f-2d7615be4912",
   "metadata": {},
   "outputs": [],
   "source": [
    "train_dataloader = DataLoader(np.expand_dims(data_train,1), batch_size=1024, shuffle=True)\n",
    "valid_dataloader = DataLoader(np.expand_dims(data_test,1), batch_size=512, shuffle=False)"
   ]
  },
  {
   "cell_type": "markdown",
   "id": "15071f49-349a-4a0c-b1cb-3f315a6f4d64",
   "metadata": {},
   "source": [
    "# Train"
   ]
  },
  {
   "cell_type": "markdown",
   "id": "f3ec5c5b-5362-43f4-81ad-f558cb00c8db",
   "metadata": {},
   "source": [
    "### Create basis matrix that initialized with mean spectrum and repeated same number of times as endmember number"
   ]
  },
  {
   "cell_type": "code",
   "execution_count": null,
   "id": "f5b7aa71-1083-4a08-b0b8-11b1029ba2f6",
   "metadata": {
    "tags": []
   },
   "outputs": [],
   "source": [
    "nb_endmember = 5\n",
    "nb_bands = 230\n",
    "basis=np.repeat(data_train.mean(axis=0).reshape(-1,1),nb_endmember,axis=1)"
   ]
  },
  {
   "cell_type": "code",
   "execution_count": null,
   "id": "cbcea3c0-297a-4c82-a4a5-6bc2d6e8e0c3",
   "metadata": {
    "tags": []
   },
   "outputs": [],
   "source": [
    "importlib.reload(conv_autoencoder)\n",
    "device = torch.device(\"cuda:0\")\n",
    "model=conv_autoencoder.ConvAutoencoder(nb_bands, torch.from_numpy(basis).float(),nb_endmember).to(device)\n",
    "model.weight.requires_grad_grad=True # Here we can freeze the weights which are the endmember to force them not to change during training\n",
    "list1=[]\n",
    "list2=[]\n",
    "for name, param in model.named_parameters():\n",
    "    if name in ['weight']:\n",
    "        list1.append(param)\n",
    "    else:\n",
    "        list2.append(param)\n",
    "optimizer =torch.optim.Adam([{'params':list1,'lr':1e-6},{'params':list2,'lr':1e-4}])\n",
    "path=r'<YOUR_PATH_HERE>'\n",
    "name= f\"model_{nb_endmember}_endmembers\"\n",
    "train_loss,valid_loss=conv_autoencoder.train_nn(200,model,optimizer,train_dataloader,valid_dataloader,0,0,path,name,device,True)"
   ]
  },
  {
   "cell_type": "markdown",
   "id": "cb37ba04-21e2-4f7b-9771-4ef713e22451",
   "metadata": {
    "tags": []
   },
   "source": [
    "# Plot Endmembers"
   ]
  },
  {
   "cell_type": "code",
   "execution_count": null,
   "id": "b034266c-71ba-473a-ac0c-a5f0c3541d8f",
   "metadata": {
    "tags": []
   },
   "outputs": [],
   "source": [
    "hdr=envi.open(r'<YOUR_HDR_PATH_HERE>')\n",
    "bands=np.array(hdr.bands.centers)\n",
    "noise1=(bands<1136)\n",
    "noise2=(bands>2413)\n",
    "combined=noise1 | noise2 \n",
    "model=conv_autoencoder.ConvAutoencoder(nb_bands, torch.from_numpy(np.random.rand(nb_bands,nb_endmember)).float(),nb_endmember).to(device)\n",
    "path=r'<YOUR_MODEL_PATH_HERE>'\n",
    "name= f\"model_{nb_endmember}_endmembers\"\n",
    "model.load_state_dict(torch.load(os.path.join(path,name)))\n",
    "cmap = plt.get_cmap('Set1')\n",
    "colors = cmap(np.linspace(0, 1, model.weight.T.shape[1]+1))\n",
    "colors=['orange', 'red','aqua','blue','green']\n",
    "fig=plt.figure(dpi=200)\n",
    "for i in range(model.weight.T.shape[1]):\n",
    "    plt.plot(bands[~combined],model.weight.T[:,i].detach().cpu(),color=colors[i])\n",
    "plt.legend(labels=[str(i) for i in range(model.weight.T.shape[1])])\n",
    "plt.xlabel('# Bands')\n",
    "plt.ylabel('Normalized Reflectance')\n",
    "plt.title('Endmembers')\n",
    "plt.close(fig)"
   ]
  },
  {
   "cell_type": "markdown",
   "id": "816a6eb2-c257-43d1-8762-1fdc63a02821",
   "metadata": {},
   "source": [
    "## Abundances\n"
   ]
  },
  {
   "cell_type": "code",
   "execution_count": null,
   "id": "363ec6b9-508a-443a-a904-d3e760e48c82",
   "metadata": {
    "tags": []
   },
   "outputs": [],
   "source": [
    "image = np.load(r\"<YOUR_PATH_HERE>\")\n",
    "image,mask=conv_autoencoder.clean_image(image,bands,0.1,0.9)\n",
    "scaler=MinMaxScaler()\n",
    "image=scaler.fit_transform(image.reshape(-1,230).T).T\n",
    "valid_dataloader = DataLoader(np.expand_dims(image.reshape(-1,230),1), batch_size=512, shuffle=False)\n",
    "outputs=conv_autoencoder.get_abundances(model,valid_dataloader,device,True)\n",
    "             "
   ]
  }
 ],
 "metadata": {
  "kernelspec": {
   "display_name": "torch",
   "language": "python",
   "name": "torch"
  },
  "language_info": {
   "codemirror_mode": {
    "name": "ipython",
    "version": 3
   },
   "file_extension": ".py",
   "mimetype": "text/x-python",
   "name": "python",
   "nbconvert_exporter": "python",
   "pygments_lexer": "ipython3",
   "version": "3.7.9"
  }
 },
 "nbformat": 4,
 "nbformat_minor": 5
}
